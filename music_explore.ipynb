{
 "cells": [
  {
   "cell_type": "code",
   "execution_count": 282,
   "metadata": {},
   "outputs": [
    {
     "name": "stdout",
     "output_type": "stream",
     "text": [
      "Collecting fuzzywuzzy\n",
      "  Downloading https://files.pythonhosted.org/packages/43/ff/74f23998ad2f93b945c0309f825be92e04e0348e062026998b5eefef4c33/fuzzywuzzy-0.18.0-py2.py3-none-any.whl\n",
      "Installing collected packages: fuzzywuzzy\n",
      "Successfully installed fuzzywuzzy-0.18.0\n"
     ]
    }
   ],
   "source": [
    "!pip install fuzzywuzzy"
   ]
  },
  {
   "cell_type": "code",
   "execution_count": 1,
   "metadata": {},
   "outputs": [
    {
     "name": "stderr",
     "output_type": "stream",
     "text": [
      "/anaconda3/envs/py36_ml/lib/python3.6/site-packages/fuzzywuzzy/fuzz.py:11: UserWarning: Using slow pure-python SequenceMatcher. Install python-Levenshtein to remove this warning\n",
      "  warnings.warn('Using slow pure-python SequenceMatcher. Install python-Levenshtein to remove this warning')\n"
     ]
    }
   ],
   "source": [
    "import json\n",
    "import pandas as pd\n",
    "from itertools import chain\n",
    "import re\n",
    "from fuzzywuzzy import fuzz, process"
   ]
  },
  {
   "cell_type": "code",
   "execution_count": 2,
   "metadata": {},
   "outputs": [],
   "source": [
    "data = []\n",
    "with open('found_artists_filtered.ndjson', 'rb') as f:\n",
    "    for l in f.readlines():\n",
    "        data.append(json.loads(l))\n",
    "data = list(chain(data))\n",
    "data = [[d[0], d[1], d[3]] for d in data]"
   ]
  },
  {
   "cell_type": "code",
   "execution_count": 3,
   "metadata": {},
   "outputs": [
    {
     "name": "stdout",
     "output_type": "stream",
     "text": [
      "['1982', 'present']\n"
     ]
    }
   ],
   "source": [
    "txt = '1982  & ndash; 1985'\n",
    "txt = '1982  & ndash; present'\n",
    "\n",
    "\n",
    "r1 = re.findall(r\"\\d{4}\",txt)\n",
    "r1 = re.findall(r\"(\\d{4}|present)\",txt)\n",
    "print(r1)"
   ]
  },
  {
   "cell_type": "code",
   "execution_count": 4,
   "metadata": {},
   "outputs": [
    {
     "data": {
      "text/plain": [
       "['K (singer)',\n",
       " {'name': 'K',\n",
       "  'background': 'solo_singer',\n",
       "  'birth_name': 'Kang Yoon-sung',\n",
       "  'origin': 'South Korea',\n",
       "  'Instruments': 'Singing, Piano',\n",
       "  'genre': 'J-pop R & B',\n",
       "  'occupation': 'singer',\n",
       "  'years_active': '2004–2010; 2013-',\n",
       "  'label': 'Sony Music Entertainment, Studioseven Recordings',\n",
       "  'website': 'http://www.k-official.com/'},\n",
       " {'name': [],\n",
       "  'background': [],\n",
       "  'birth_name': [],\n",
       "  'alias': [],\n",
       "  'birth_date': [],\n",
       "  'death_date': [],\n",
       "  'origin': [],\n",
       "  'Instruments': [],\n",
       "  'genre': ['J-pop', 'Rhythm and blues'],\n",
       "  'occupation': [],\n",
       "  'years_active': [],\n",
       "  'label': ['Sony Music Entertainment', 'Studioseven Recordings'],\n",
       "  'Related_acts': [],\n",
       "  'website': []}]"
      ]
     },
     "execution_count": 4,
     "metadata": {},
     "output_type": "execute_result"
    }
   ],
   "source": [
    "data[1]"
   ]
  },
  {
   "cell_type": "code",
   "execution_count": 10,
   "metadata": {},
   "outputs": [
    {
     "name": "stderr",
     "output_type": "stream",
     "text": [
      "WARNING:root:Applied processor reduces input query to empty string, all comparisons will have score 0. [Query: '[]']\n",
      "WARNING:root:Applied processor reduces input query to empty string, all comparisons will have score 0. [Query: '[]']\n",
      "WARNING:root:Applied processor reduces input query to empty string, all comparisons will have score 0. [Query: '[]']\n",
      "WARNING:root:Applied processor reduces input query to empty string, all comparisons will have score 0. [Query: '[]']\n",
      "WARNING:root:Applied processor reduces input query to empty string, all comparisons will have score 0. [Query: '[]']\n",
      "WARNING:root:Applied processor reduces input query to empty string, all comparisons will have score 0. [Query: '[]']\n",
      "WARNING:root:Applied processor reduces input query to empty string, all comparisons will have score 0. [Query: '[]']\n",
      "WARNING:root:Applied processor reduces input query to empty string, all comparisons will have score 0. [Query: '[]']\n",
      "WARNING:root:Applied processor reduces input query to empty string, all comparisons will have score 0. [Query: '[]']\n",
      "WARNING:root:Applied processor reduces input query to empty string, all comparisons will have score 0. [Query: '[]']\n",
      "WARNING:root:Applied processor reduces input query to empty string, all comparisons will have score 0. [Query: '[]']\n",
      "WARNING:root:Applied processor reduces input query to empty string, all comparisons will have score 0. [Query: '[]']\n",
      "WARNING:root:Applied processor reduces input query to empty string, all comparisons will have score 0. [Query: '[]']\n",
      "WARNING:root:Applied processor reduces input query to empty string, all comparisons will have score 0. [Query: '[]']\n",
      "WARNING:root:Applied processor reduces input query to empty string, all comparisons will have score 0. [Query: '[]']\n",
      "WARNING:root:Applied processor reduces input query to empty string, all comparisons will have score 0. [Query: '[]']\n",
      "WARNING:root:Applied processor reduces input query to empty string, all comparisons will have score 0. [Query: '[]']\n",
      "WARNING:root:Applied processor reduces input query to empty string, all comparisons will have score 0. [Query: '[]']\n",
      "WARNING:root:Applied processor reduces input query to empty string, all comparisons will have score 0. [Query: '[]']\n",
      "WARNING:root:Applied processor reduces input query to empty string, all comparisons will have score 0. [Query: '[]']\n",
      "WARNING:root:Applied processor reduces input query to empty string, all comparisons will have score 0. [Query: '[]']\n",
      "WARNING:root:Applied processor reduces input query to empty string, all comparisons will have score 0. [Query: '[]']\n",
      "WARNING:root:Applied processor reduces input query to empty string, all comparisons will have score 0. [Query: '[]']\n",
      "WARNING:root:Applied processor reduces input query to empty string, all comparisons will have score 0. [Query: '[]']\n",
      "WARNING:root:Applied processor reduces input query to empty string, all comparisons will have score 0. [Query: '[]']\n",
      "WARNING:root:Applied processor reduces input query to empty string, all comparisons will have score 0. [Query: '[]']\n",
      "WARNING:root:Applied processor reduces input query to empty string, all comparisons will have score 0. [Query: '[]']\n",
      "WARNING:root:Applied processor reduces input query to empty string, all comparisons will have score 0. [Query: '[]']\n",
      "WARNING:root:Applied processor reduces input query to empty string, all comparisons will have score 0. [Query: '[]']\n",
      "WARNING:root:Applied processor reduces input query to empty string, all comparisons will have score 0. [Query: '[]']\n",
      "WARNING:root:Applied processor reduces input query to empty string, all comparisons will have score 0. [Query: '[]']\n",
      "WARNING:root:Applied processor reduces input query to empty string, all comparisons will have score 0. [Query: '[]']\n",
      "WARNING:root:Applied processor reduces input query to empty string, all comparisons will have score 0. [Query: '[]']\n",
      "WARNING:root:Applied processor reduces input query to empty string, all comparisons will have score 0. [Query: '[]']\n",
      "WARNING:root:Applied processor reduces input query to empty string, all comparisons will have score 0. [Query: '[]']\n",
      "WARNING:root:Applied processor reduces input query to empty string, all comparisons will have score 0. [Query: '[]']\n",
      "WARNING:root:Applied processor reduces input query to empty string, all comparisons will have score 0. [Query: '[]']\n",
      "WARNING:root:Applied processor reduces input query to empty string, all comparisons will have score 0. [Query: '[]']\n",
      "WARNING:root:Applied processor reduces input query to empty string, all comparisons will have score 0. [Query: '[]']\n",
      "WARNING:root:Applied processor reduces input query to empty string, all comparisons will have score 0. [Query: '[]']\n",
      "WARNING:root:Applied processor reduces input query to empty string, all comparisons will have score 0. [Query: '[]']\n",
      "WARNING:root:Applied processor reduces input query to empty string, all comparisons will have score 0. [Query: '[]']\n",
      "WARNING:root:Applied processor reduces input query to empty string, all comparisons will have score 0. [Query: '[]']\n",
      "WARNING:root:Applied processor reduces input query to empty string, all comparisons will have score 0. [Query: '[]']\n",
      "WARNING:root:Applied processor reduces input query to empty string, all comparisons will have score 0. [Query: '[]']\n",
      "WARNING:root:Applied processor reduces input query to empty string, all comparisons will have score 0. [Query: '[]']\n",
      "WARNING:root:Applied processor reduces input query to empty string, all comparisons will have score 0. [Query: '[]']\n",
      "WARNING:root:Applied processor reduces input query to empty string, all comparisons will have score 0. [Query: '[]']\n",
      "WARNING:root:Applied processor reduces input query to empty string, all comparisons will have score 0. [Query: '[]']\n",
      "WARNING:root:Applied processor reduces input query to empty string, all comparisons will have score 0. [Query: '[]']\n",
      "WARNING:root:Applied processor reduces input query to empty string, all comparisons will have score 0. [Query: '[]']\n",
      "WARNING:root:Applied processor reduces input query to empty string, all comparisons will have score 0. [Query: '[]']\n",
      "WARNING:root:Applied processor reduces input query to empty string, all comparisons will have score 0. [Query: '[]']\n",
      "WARNING:root:Applied processor reduces input query to empty string, all comparisons will have score 0. [Query: '[]']\n",
      "WARNING:root:Applied processor reduces input query to empty string, all comparisons will have score 0. [Query: '[]']\n",
      "WARNING:root:Applied processor reduces input query to empty string, all comparisons will have score 0. [Query: '[]']\n"
     ]
    }
   ],
   "source": [
    "source = []\n",
    "for d in data:\n",
    "    tmp = {}\n",
    "    tmp['name'] = str(d[0])\n",
    "    tmp['background'] = str(d[2].get('background'))\n",
    "    tmp['years_active'] = d[2].get('years_active')\n",
    "    tmp['genre'] = d[2].get('genre')\n",
    "    tmp['origin'] = d[2].get('origin')\n",
    "    tmp['associated_acts'] = d[2].get('associated_acts')\n",
    "    \n",
    "    #if tmp['name']:\n",
    "    #    try:\n",
    "    #        tmp['name'] = str(tmp['name']).replace('\"', '´')\n",
    "    #    except:\n",
    "    #        print(tmp['name'])\n",
    "    #        continue\n",
    "                      \n",
    "    if not d[2].get('background') and d[1].get('background'):\n",
    "        tmp['background'] = str(d[1]['background'])\n",
    "    backgrounds = ['group_or_band', 'solo_singer', 'non_vocal_instrumentalist', 'non_performing_personnel', 'temporary', 'None']\n",
    "    \n",
    "    if not tmp['background']:\n",
    "        background = 'None'\n",
    "    else:\n",
    "        ratios = process.extractBests(tmp['background'], backgrounds)\n",
    "        ratios = sorted([r[1] for r in ratios])\n",
    "        if ratios[-1] == ratios[-2]:\n",
    "            background = 'None'\n",
    "        else:\n",
    "            background = process.extractOne(tmp['background'], backgrounds)[0]\n",
    "    tmp['background'] = background\n",
    "    if not d[2].get('years_active') and d[1].get('years_active'):\n",
    "        tmp['years_active'] = re.findall(r\"(\\d{4}|present)\",d[1]['years_active'])\n",
    "    elif not tmp['years_active']:\n",
    "        tmp['years_active'] = []\n",
    "    \n",
    "    if len(tmp['years_active']) > 2:\n",
    "        tmp['years_active'] = [tmp['years_active'][0], tmp['years_active'][-1]]\n",
    "    elif len(tmp['years_active']) == 0:\n",
    "        tmp['years_active'] = [0, 0]\n",
    "    elif len(tmp['years_active']) == 1:\n",
    "        if tmp['years_active'][0] == 'present':\n",
    "            tmp['years_active'] = [0,'present']\n",
    "        else:\n",
    "            tmp['years_active'] = [tmp['years_active'][0],'present']\n",
    "    for i,year in enumerate(tmp['years_active']):\n",
    "        if year == 'present':\n",
    "            tmp['years_active'][i] = 2021\n",
    "        try:\n",
    "            tmp['years_active'][i] = int(tmp['years_active'][i])\n",
    "        except:\n",
    "            tmp['years_active'][i] = 0\n",
    "        \n",
    "    if not d[2].get('associated_acts'):\n",
    "        tmp['associated_acts'] = d[2].get('Associated_acts')\n",
    "    source.append(tmp)"
   ]
  },
  {
   "cell_type": "code",
   "execution_count": 11,
   "metadata": {},
   "outputs": [],
   "source": [
    "nodes = pd.DataFrame([d for d in source])"
   ]
  },
  {
   "cell_type": "code",
   "execution_count": 12,
   "metadata": {},
   "outputs": [],
   "source": [
    "nodes.name = nodes.name.fillna('')\n",
    "nodes.name = nodes.name.astype(str)"
   ]
  },
  {
   "cell_type": "code",
   "execution_count": 13,
   "metadata": {},
   "outputs": [
    {
     "data": {
      "text/plain": [
       "'non_vocal_instrumentalist'"
      ]
     },
     "execution_count": 13,
     "metadata": {},
     "output_type": "execute_result"
    }
   ],
   "source": [
    "ratios = process.extractBests('solo_singer  < !-- mandatory field -- >      ', backgrounds)\n",
    "ratios = sorted([r[1] for r in ratios])\n",
    "if ratios[-1] == ratios[-2]:\n",
    "    background = 'None'\n",
    "else:\n",
    "    background = process.extractOne('**Mandatory** Use one: solo_singer, non_vocal_instrumentalist, non_performing_personnel, or temporary ', backgrounds)[0]\n",
    "background"
   ]
  },
  {
   "cell_type": "code",
   "execution_count": 14,
   "metadata": {},
   "outputs": [
    {
     "data": {
      "text/html": [
       "<div>\n",
       "<style scoped>\n",
       "    .dataframe tbody tr th:only-of-type {\n",
       "        vertical-align: middle;\n",
       "    }\n",
       "\n",
       "    .dataframe tbody tr th {\n",
       "        vertical-align: top;\n",
       "    }\n",
       "\n",
       "    .dataframe thead th {\n",
       "        text-align: right;\n",
       "    }\n",
       "</style>\n",
       "<table border=\"1\" class=\"dataframe\">\n",
       "  <thead>\n",
       "    <tr style=\"text-align: right;\">\n",
       "      <th></th>\n",
       "      <th>name</th>\n",
       "      <th>background</th>\n",
       "      <th>years_active</th>\n",
       "      <th>genre</th>\n",
       "      <th>origin</th>\n",
       "      <th>associated_acts</th>\n",
       "    </tr>\n",
       "  </thead>\n",
       "  <tbody>\n",
       "    <tr>\n",
       "      <th>0</th>\n",
       "      <td>Rose Hill Drive</td>\n",
       "      <td>group_or_band</td>\n",
       "      <td>[2003, 2021]</td>\n",
       "      <td>[Hard rock, Blues rock]</td>\n",
       "      <td>[Boulder, Colorado, Colorado]</td>\n",
       "      <td>None</td>\n",
       "    </tr>\n",
       "    <tr>\n",
       "      <th>1</th>\n",
       "      <td>K (singer)</td>\n",
       "      <td>solo_singer</td>\n",
       "      <td>[2004, 2013]</td>\n",
       "      <td>[J-pop, Rhythm and blues]</td>\n",
       "      <td>[]</td>\n",
       "      <td>None</td>\n",
       "    </tr>\n",
       "    <tr>\n",
       "      <th>2</th>\n",
       "      <td>Zos Kia</td>\n",
       "      <td>group_or_band</td>\n",
       "      <td>[1982, 1985]</td>\n",
       "      <td>[Experimental music]</td>\n",
       "      <td>[London, England]</td>\n",
       "      <td>None</td>\n",
       "    </tr>\n",
       "    <tr>\n",
       "      <th>3</th>\n",
       "      <td>SITD</td>\n",
       "      <td>group_or_band</td>\n",
       "      <td>[1996, 2021]</td>\n",
       "      <td>[Industrial music, Electronic body music]</td>\n",
       "      <td>[Ruhr Area, Germany]</td>\n",
       "      <td>None</td>\n",
       "    </tr>\n",
       "    <tr>\n",
       "      <th>4</th>\n",
       "      <td>CoH (musician)</td>\n",
       "      <td>non_vocal_instrumentalist</td>\n",
       "      <td>[0, 0]</td>\n",
       "      <td>[Glitch music, Industrial music, Intelligent d...</td>\n",
       "      <td>[]</td>\n",
       "      <td>[Soisong, Richard Chartier, Nice Box]</td>\n",
       "    </tr>\n",
       "    <tr>\n",
       "      <th>5</th>\n",
       "      <td>Jorge Cumbo</td>\n",
       "      <td>non_vocal_instrumentalist</td>\n",
       "      <td>[0, 0]</td>\n",
       "      <td>[Andean music]</td>\n",
       "      <td>None</td>\n",
       "      <td>[Urubamba (band), Paul Simon]</td>\n",
       "    </tr>\n",
       "    <tr>\n",
       "      <th>6</th>\n",
       "      <td>The Rave-Ups</td>\n",
       "      <td>group_or_band</td>\n",
       "      <td>[0, 0]</td>\n",
       "      <td>[alternative rock]</td>\n",
       "      <td>[Pittsburgh, Pennsylvania]</td>\n",
       "      <td>None</td>\n",
       "    </tr>\n",
       "    <tr>\n",
       "      <th>7</th>\n",
       "      <td>Martha Redbone</td>\n",
       "      <td>solo_singer</td>\n",
       "      <td>[0, 0]</td>\n",
       "      <td>[rhythm and blues, soul music]</td>\n",
       "      <td>[]</td>\n",
       "      <td>None</td>\n",
       "    </tr>\n",
       "    <tr>\n",
       "      <th>8</th>\n",
       "      <td>Terje Isungset</td>\n",
       "      <td>temporary</td>\n",
       "      <td>[0, 0]</td>\n",
       "      <td>[Jazz, Nordic folk music]</td>\n",
       "      <td>[]</td>\n",
       "      <td>None</td>\n",
       "    </tr>\n",
       "    <tr>\n",
       "      <th>9</th>\n",
       "      <td>Viva Hate (band)</td>\n",
       "      <td>group_or_band</td>\n",
       "      <td>[2004, 2021]</td>\n",
       "      <td>[Psychobilly, hard rock, punk rock]</td>\n",
       "      <td>[California, United States]</td>\n",
       "      <td>[Tiger Army, AFI (band), The Force (band), Fea...</td>\n",
       "    </tr>\n",
       "    <tr>\n",
       "      <th>10</th>\n",
       "      <td>The Memory Band</td>\n",
       "      <td>group_or_band</td>\n",
       "      <td>[2003, 2021]</td>\n",
       "      <td>[Folk rock]</td>\n",
       "      <td>[England]</td>\n",
       "      <td>[The Accidental (band)]</td>\n",
       "    </tr>\n",
       "    <tr>\n",
       "      <th>11</th>\n",
       "      <td>Rob Arnold (singer)</td>\n",
       "      <td>solo_singer</td>\n",
       "      <td>[2006, 2021]</td>\n",
       "      <td>[Pop music, Dance music]</td>\n",
       "      <td>[Wellington, New Zealand]</td>\n",
       "      <td>[Boyband (band)]</td>\n",
       "    </tr>\n",
       "  </tbody>\n",
       "</table>\n",
       "</div>"
      ],
      "text/plain": [
       "                   name                 background  years_active  \\\n",
       "0       Rose Hill Drive              group_or_band  [2003, 2021]   \n",
       "1            K (singer)                solo_singer  [2004, 2013]   \n",
       "2               Zos Kia              group_or_band  [1982, 1985]   \n",
       "3                  SITD              group_or_band  [1996, 2021]   \n",
       "4        CoH (musician)  non_vocal_instrumentalist        [0, 0]   \n",
       "5           Jorge Cumbo  non_vocal_instrumentalist        [0, 0]   \n",
       "6          The Rave-Ups              group_or_band        [0, 0]   \n",
       "7        Martha Redbone                solo_singer        [0, 0]   \n",
       "8        Terje Isungset                  temporary        [0, 0]   \n",
       "9      Viva Hate (band)              group_or_band  [2004, 2021]   \n",
       "10      The Memory Band              group_or_band  [2003, 2021]   \n",
       "11  Rob Arnold (singer)                solo_singer  [2006, 2021]   \n",
       "\n",
       "                                                genre  \\\n",
       "0                             [Hard rock, Blues rock]   \n",
       "1                           [J-pop, Rhythm and blues]   \n",
       "2                                [Experimental music]   \n",
       "3           [Industrial music, Electronic body music]   \n",
       "4   [Glitch music, Industrial music, Intelligent d...   \n",
       "5                                      [Andean music]   \n",
       "6                                  [alternative rock]   \n",
       "7                      [rhythm and blues, soul music]   \n",
       "8                           [Jazz, Nordic folk music]   \n",
       "9                 [Psychobilly, hard rock, punk rock]   \n",
       "10                                        [Folk rock]   \n",
       "11                           [Pop music, Dance music]   \n",
       "\n",
       "                           origin  \\\n",
       "0   [Boulder, Colorado, Colorado]   \n",
       "1                              []   \n",
       "2               [London, England]   \n",
       "3            [Ruhr Area, Germany]   \n",
       "4                              []   \n",
       "5                            None   \n",
       "6      [Pittsburgh, Pennsylvania]   \n",
       "7                              []   \n",
       "8                              []   \n",
       "9     [California, United States]   \n",
       "10                      [England]   \n",
       "11      [Wellington, New Zealand]   \n",
       "\n",
       "                                      associated_acts  \n",
       "0                                                None  \n",
       "1                                                None  \n",
       "2                                                None  \n",
       "3                                                None  \n",
       "4               [Soisong, Richard Chartier, Nice Box]  \n",
       "5                       [Urubamba (band), Paul Simon]  \n",
       "6                                                None  \n",
       "7                                                None  \n",
       "8                                                None  \n",
       "9   [Tiger Army, AFI (band), The Force (band), Fea...  \n",
       "10                            [The Accidental (band)]  \n",
       "11                                   [Boyband (band)]  "
      ]
     },
     "execution_count": 14,
     "metadata": {},
     "output_type": "execute_result"
    }
   ],
   "source": [
    "nodes.head(12)\n"
   ]
  },
  {
   "cell_type": "code",
   "execution_count": 15,
   "metadata": {},
   "outputs": [
    {
     "data": {
      "text/plain": [
       "solo_singer                  27967\n",
       "group_or_band                21283\n",
       "non_vocal_instrumentalist     9984\n",
       "non_performing_personnel      3648\n",
       "temporary                     1198\n",
       "None                           742\n",
       "Name: background, dtype: int64"
      ]
     },
     "execution_count": 15,
     "metadata": {},
     "output_type": "execute_result"
    }
   ],
   "source": [
    "nodes.background.astype(str).value_counts()[:20]\n"
   ]
  },
  {
   "cell_type": "code",
   "execution_count": 16,
   "metadata": {},
   "outputs": [
    {
     "data": {
      "text/plain": [
       "(64822, 6)"
      ]
     },
     "execution_count": 16,
     "metadata": {},
     "output_type": "execute_result"
    }
   ],
   "source": [
    "nodes.shape"
   ]
  },
  {
   "cell_type": "code",
   "execution_count": 17,
   "metadata": {},
   "outputs": [],
   "source": [
    "from neo4j import GraphDatabase"
   ]
  },
  {
   "cell_type": "code",
   "execution_count": 18,
   "metadata": {},
   "outputs": [],
   "source": [
    "uri = \"neo4j://localhost:7687\"\n",
    "neo_diver = GraphDatabase.driver(uri, auth=(\"neo4j\", \"musikk\"))"
   ]
  },
  {
   "cell_type": "code",
   "execution_count": 19,
   "metadata": {},
   "outputs": [],
   "source": [
    "def create_artist(tx, artist):\n",
    "    # print('create stock ', aksje)\n",
    "    name = artist[1]\n",
    "    background = artist[2]\n",
    "    years_active_start = artist[3][0]\n",
    "    years_active_end = artist[3][1]\n",
    "    if years_active_end == 'present':\n",
    "        years_active_end = \"\"\"'present'\"\"\"\n",
    "    quary = \"\"\"Merge (u:Artist {name:\"%s\"})\n",
    "                set u.background=\"%s\", u.years_active_start=%s, u.years_active_end=%s\"\"\"\n",
    "    tx.run(quary%(name, background, years_active_start, years_active_end))\n",
    "    \n",
    "def create_associated_acts_relation(tx, artist):\n",
    "    # print('create stock ', aksje)\n",
    "    name = artist[1]\n",
    "    acts = artist[-1]\n",
    "    if acts:\n",
    "        for act in acts:\n",
    "            quary = \"\"\"Match (u:Artist {name:\"%s\"}) \n",
    "                        Merge (a:Artist {name:\"%s\"}) \n",
    "                        Merge (a)<-[:ASSOCIATED]-(u)\n",
    "                        \"\"\"\n",
    "            tx.run(quary%(name, act))"
   ]
  },
  {
   "cell_type": "code",
   "execution_count": 20,
   "metadata": {},
   "outputs": [],
   "source": [
    "node_error_index = []\n",
    "with neo_diver.session() as session:\n",
    "    for r in nodes.itertuples():\n",
    "        try:\n",
    "            session.write_transaction(create_artist, r)\n",
    "        except:\n",
    "            node_error_index.append(r[0])"
   ]
  },
  {
   "cell_type": "code",
   "execution_count": 22,
   "metadata": {},
   "outputs": [],
   "source": [
    "relationship_error_index = []\n",
    "with neo_diver.session() as session:\n",
    "    for r in nodes.itertuples():\n",
    "        try:\n",
    "            session.write_transaction(create_associated_acts_relation, r)\n",
    "        except:\n",
    "            relationship_error_index.append(r[0])\n",
    "        "
   ]
  },
  {
   "cell_type": "code",
   "execution_count": 23,
   "metadata": {},
   "outputs": [
    {
     "name": "stdout",
     "output_type": "stream",
     "text": [
      "node errors 133\n",
      "relationship errors 194\n"
     ]
    }
   ],
   "source": [
    "print('node errors',len(node_error_index))\n",
    "print('relationship errors',len(relationship_error_index))\n"
   ]
  },
  {
   "cell_type": "code",
   "execution_count": null,
   "metadata": {},
   "outputs": [],
   "source": []
  }
 ],
 "metadata": {
  "kernelspec": {
   "display_name": "Python 3",
   "language": "python",
   "name": "python3"
  },
  "language_info": {
   "codemirror_mode": {
    "name": "ipython",
    "version": 3
   },
   "file_extension": ".py",
   "mimetype": "text/x-python",
   "name": "python",
   "nbconvert_exporter": "python",
   "pygments_lexer": "ipython3",
   "version": "3.6.7"
  }
 },
 "nbformat": 4,
 "nbformat_minor": 2
}
