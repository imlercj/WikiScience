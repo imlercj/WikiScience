{
 "cells": [
  {
   "cell_type": "markdown",
   "metadata": {},
   "source": [
    "# Downloading all Wikipedia Articles \n",
    "\n",
    "This notebook implements the downloading of all Wikipedia articles. I kept the actual download out of the main notebook because of the lengthy output. "
   ]
  },
  {
   "cell_type": "markdown",
   "metadata": {},
   "source": [
    "## Find Files to Download"
   ]
  },
  {
   "cell_type": "code",
   "execution_count": 17,
   "metadata": {},
   "outputs": [
    {
     "data": {
      "text/plain": [
       "<html>\n",
       "<head><title>Index of /enwiki/</title></head>\n",
       "<body bgcolor=\"white\">\n",
       "<h1>Index of /enwiki/</h1><hr/><pre><a href=\"../\">../</a>\n",
       "<a href=\"20190301/\">20190301/</a>                                          21-Apr-2019 01:33                   -\n",
       "<a href=\"20190320/\">20190320/</a>                                          02-May-2019 01:28                   -\n",
       "<a href=\"20190401/\">20190401/</a>                                          21-May-2019 01:34                   -\n",
       "<a href=\"20190420/\">20190420/</a>                                          02-Jun-2019 01:27                   -\n",
       "<a href=\"20190501/\">20190501/</a>                                          10-May-2019 09:15                   -\n",
       "<a href=\"20190520/\">20190520/</a>                                          24-May-2019 02:26                   -\n",
       "<a href=\"20190601/\">20190601/</a>                                          04-Jun-2019 20:30                   -\n",
       "<a href=\"latest/\">latest/</a>                                            04-Jun-2019 20:30                   -\n",
       "</pre><hr/></body>\n",
       "</html>"
      ]
     },
     "execution_count": 17,
     "metadata": {},
     "output_type": "execute_result"
    }
   ],
   "source": [
    "import requests\n",
    "from bs4 import BeautifulSoup\n",
    "from timeit import default_timer as timer\n",
    "import os\n",
    "\n",
    "base_url = 'https://dumps.wikimedia.org/enwiki/'\n",
    "index = requests.get(base_url).text\n",
    "soup_index = BeautifulSoup(index, 'html.parser')\n",
    "soup_index"
   ]
  },
  {
   "cell_type": "code",
   "execution_count": 18,
   "metadata": {},
   "outputs": [
    {
     "name": "stdout",
     "output_type": "stream",
     "text": [
      "There are 114 files to download.\n"
     ]
    }
   ],
   "source": [
    "# Find the links that are dates of dumps\n",
    "dumps = [a['href'] for a in soup_index.find_all('a') if \n",
    "         a.text == '20190601/']\n",
    "\n",
    "dumps_url = base_url + dumps[0]\n",
    "\n",
    "# Retrieve the html\n",
    "dump_html = requests.get(dumps_url).text\n",
    "\n",
    "# Convert to a soup\n",
    "soup_dump = BeautifulSoup(dump_html, 'html.parser')\n",
    "\n",
    "files = []\n",
    "for file in soup_dump.find_all('li', {'class': 'file'}):\n",
    "    text = file.text\n",
    "    if 'pages-articles' in text:\n",
    "        files.append((text.split()[0], text.split()[1:]))\n",
    "        \n",
    "files_to_download = [file[0] for file in files if '.xml-p' in file[0]]\n",
    "print(f'There are {len(files_to_download)} files to download.')"
   ]
  },
  {
   "cell_type": "code",
   "execution_count": 19,
   "metadata": {},
   "outputs": [
    {
     "data": {
      "text/plain": [
       "['enwiki-20190601-pages-articles-multistream1.xml-p10p30302.bz2',\n",
       " 'enwiki-20190601-pages-articles-multistream2.xml-p30304p88444.bz2',\n",
       " 'enwiki-20190601-pages-articles-multistream3.xml-p88445p200507.bz2',\n",
       " 'enwiki-20190601-pages-articles-multistream4.xml-p200511p352689.bz2',\n",
       " 'enwiki-20190601-pages-articles-multistream5.xml-p352690p565312.bz2',\n",
       " 'enwiki-20190601-pages-articles-multistream6.xml-p565314p892912.bz2',\n",
       " 'enwiki-20190601-pages-articles-multistream7.xml-p892914p1268691.bz2',\n",
       " 'enwiki-20190601-pages-articles-multistream8.xml-p1268693p1791079.bz2',\n",
       " 'enwiki-20190601-pages-articles-multistream9.xml-p1791081p2336422.bz2',\n",
       " 'enwiki-20190601-pages-articles-multistream10.xml-p2336425p3046511.bz2',\n",
       " 'enwiki-20190601-pages-articles-multistream11.xml-p3046517p3926861.bz2',\n",
       " 'enwiki-20190601-pages-articles-multistream12.xml-p3926864p5040435.bz2',\n",
       " 'enwiki-20190601-pages-articles-multistream13.xml-p5040438p6197593.bz2',\n",
       " 'enwiki-20190601-pages-articles-multistream14.xml-p6197599p7697599.bz2',\n",
       " 'enwiki-20190601-pages-articles-multistream14.xml-p7697599p7744799.bz2',\n",
       " 'enwiki-20190601-pages-articles-multistream15.xml-p7744803p9244803.bz2',\n",
       " 'enwiki-20190601-pages-articles-multistream15.xml-p9244803p9518046.bz2',\n",
       " 'enwiki-20190601-pages-articles-multistream16.xml-p9518059p11018059.bz2',\n",
       " 'enwiki-20190601-pages-articles-multistream16.xml-p11018059p11539266.bz2',\n",
       " 'enwiki-20190601-pages-articles-multistream17.xml-p11539268p13039268.bz2',\n",
       " 'enwiki-20190601-pages-articles-multistream17.xml-p13039268p13693066.bz2',\n",
       " 'enwiki-20190601-pages-articles-multistream18.xml-p13693075p15193075.bz2',\n",
       " 'enwiki-20190601-pages-articles-multistream18.xml-p15193075p16120541.bz2',\n",
       " 'enwiki-20190601-pages-articles-multistream19.xml-p16120548p17620548.bz2',\n",
       " 'enwiki-20190601-pages-articles-multistream19.xml-p17620548p18754723.bz2',\n",
       " 'enwiki-20190601-pages-articles-multistream20.xml-p18754736p20254736.bz2',\n",
       " 'enwiki-20190601-pages-articles-multistream20.xml-p20254736p21222156.bz2',\n",
       " 'enwiki-20190601-pages-articles-multistream21.xml-p21222161p22722161.bz2',\n",
       " 'enwiki-20190601-pages-articles-multistream21.xml-p22722161p23927980.bz2',\n",
       " 'enwiki-20190601-pages-articles-multistream22.xml-p23927984p25427984.bz2',\n",
       " 'enwiki-20190601-pages-articles-multistream22.xml-p25427984p26823658.bz2',\n",
       " 'enwiki-20190601-pages-articles-multistream23.xml-p26823661p28323661.bz2',\n",
       " 'enwiki-20190601-pages-articles-multistream23.xml-p28323661p29823661.bz2',\n",
       " 'enwiki-20190601-pages-articles-multistream23.xml-p29823661p30503448.bz2',\n",
       " 'enwiki-20190601-pages-articles-multistream24.xml-p30503454p32003454.bz2',\n",
       " 'enwiki-20190601-pages-articles-multistream24.xml-p32003454p33503454.bz2',\n",
       " 'enwiki-20190601-pages-articles-multistream24.xml-p33503454p33952815.bz2',\n",
       " 'enwiki-20190601-pages-articles-multistream25.xml-p33952817p35452817.bz2',\n",
       " 'enwiki-20190601-pages-articles-multistream25.xml-p35452817p36952817.bz2',\n",
       " 'enwiki-20190601-pages-articles-multistream25.xml-p36952817p38067198.bz2',\n",
       " 'enwiki-20190601-pages-articles-multistream26.xml-p38067204p39567204.bz2',\n",
       " 'enwiki-20190601-pages-articles-multistream26.xml-p39567204p41067204.bz2',\n",
       " 'enwiki-20190601-pages-articles-multistream26.xml-p41067204p42567204.bz2',\n",
       " 'enwiki-20190601-pages-articles-multistream26.xml-p42567204p42663461.bz2',\n",
       " 'enwiki-20190601-pages-articles-multistream27.xml-p42663464p44163464.bz2',\n",
       " 'enwiki-20190601-pages-articles-multistream27.xml-p44163464p45663464.bz2',\n",
       " 'enwiki-20190601-pages-articles-multistream27.xml-p45663464p47163464.bz2',\n",
       " 'enwiki-20190601-pages-articles-multistream27.xml-p47163464p48663464.bz2',\n",
       " 'enwiki-20190601-pages-articles-multistream27.xml-p48663464p50163464.bz2',\n",
       " 'enwiki-20190601-pages-articles-multistream27.xml-p50163464p51663464.bz2',\n",
       " 'enwiki-20190601-pages-articles-multistream27.xml-p51663464p53163464.bz2',\n",
       " 'enwiki-20190601-pages-articles-multistream27.xml-p53163464p54663464.bz2',\n",
       " 'enwiki-20190601-pages-articles-multistream27.xml-p54663464p56163464.bz2',\n",
       " 'enwiki-20190601-pages-articles-multistream27.xml-p56163464p57663464.bz2',\n",
       " 'enwiki-20190601-pages-articles-multistream27.xml-p57663464p59163464.bz2',\n",
       " 'enwiki-20190601-pages-articles-multistream27.xml-p59163464p60663464.bz2',\n",
       " 'enwiki-20190601-pages-articles-multistream27.xml-p60663464p60933434.bz2',\n",
       " 'enwiki-20190601-pages-articles1.xml-p10p30302.bz2',\n",
       " 'enwiki-20190601-pages-articles2.xml-p30304p88444.bz2',\n",
       " 'enwiki-20190601-pages-articles3.xml-p88445p200507.bz2',\n",
       " 'enwiki-20190601-pages-articles4.xml-p200511p352689.bz2',\n",
       " 'enwiki-20190601-pages-articles5.xml-p352690p565312.bz2',\n",
       " 'enwiki-20190601-pages-articles6.xml-p565314p892912.bz2',\n",
       " 'enwiki-20190601-pages-articles7.xml-p892914p1268691.bz2',\n",
       " 'enwiki-20190601-pages-articles8.xml-p1268693p1791079.bz2',\n",
       " 'enwiki-20190601-pages-articles9.xml-p1791081p2336422.bz2',\n",
       " 'enwiki-20190601-pages-articles10.xml-p2336425p3046511.bz2',\n",
       " 'enwiki-20190601-pages-articles11.xml-p3046517p3926861.bz2',\n",
       " 'enwiki-20190601-pages-articles12.xml-p3926864p5040435.bz2',\n",
       " 'enwiki-20190601-pages-articles13.xml-p5040438p6197593.bz2',\n",
       " 'enwiki-20190601-pages-articles14.xml-p6197599p7697599.bz2',\n",
       " 'enwiki-20190601-pages-articles14.xml-p7697599p7744799.bz2',\n",
       " 'enwiki-20190601-pages-articles15.xml-p7744803p9244803.bz2',\n",
       " 'enwiki-20190601-pages-articles15.xml-p9244803p9518046.bz2',\n",
       " 'enwiki-20190601-pages-articles16.xml-p9518059p11018059.bz2',\n",
       " 'enwiki-20190601-pages-articles16.xml-p11018059p11539266.bz2',\n",
       " 'enwiki-20190601-pages-articles17.xml-p11539268p13039268.bz2',\n",
       " 'enwiki-20190601-pages-articles17.xml-p13039268p13693066.bz2',\n",
       " 'enwiki-20190601-pages-articles18.xml-p13693075p15193075.bz2',\n",
       " 'enwiki-20190601-pages-articles18.xml-p15193075p16120541.bz2',\n",
       " 'enwiki-20190601-pages-articles19.xml-p16120548p17620548.bz2',\n",
       " 'enwiki-20190601-pages-articles19.xml-p17620548p18754723.bz2',\n",
       " 'enwiki-20190601-pages-articles20.xml-p18754736p20254736.bz2',\n",
       " 'enwiki-20190601-pages-articles20.xml-p20254736p21222156.bz2',\n",
       " 'enwiki-20190601-pages-articles21.xml-p21222161p22722161.bz2',\n",
       " 'enwiki-20190601-pages-articles21.xml-p22722161p23927980.bz2',\n",
       " 'enwiki-20190601-pages-articles22.xml-p23927984p25427984.bz2',\n",
       " 'enwiki-20190601-pages-articles22.xml-p25427984p26823658.bz2',\n",
       " 'enwiki-20190601-pages-articles23.xml-p26823661p28323661.bz2',\n",
       " 'enwiki-20190601-pages-articles23.xml-p28323661p29823661.bz2',\n",
       " 'enwiki-20190601-pages-articles23.xml-p29823661p30503448.bz2',\n",
       " 'enwiki-20190601-pages-articles24.xml-p30503454p32003454.bz2',\n",
       " 'enwiki-20190601-pages-articles24.xml-p32003454p33503454.bz2',\n",
       " 'enwiki-20190601-pages-articles24.xml-p33503454p33952815.bz2',\n",
       " 'enwiki-20190601-pages-articles25.xml-p33952817p35452817.bz2',\n",
       " 'enwiki-20190601-pages-articles25.xml-p35452817p36952817.bz2',\n",
       " 'enwiki-20190601-pages-articles25.xml-p36952817p38067198.bz2',\n",
       " 'enwiki-20190601-pages-articles26.xml-p38067204p39567204.bz2',\n",
       " 'enwiki-20190601-pages-articles26.xml-p39567204p41067204.bz2',\n",
       " 'enwiki-20190601-pages-articles26.xml-p41067204p42567204.bz2',\n",
       " 'enwiki-20190601-pages-articles26.xml-p42567204p42663461.bz2',\n",
       " 'enwiki-20190601-pages-articles27.xml-p42663464p44163464.bz2',\n",
       " 'enwiki-20190601-pages-articles27.xml-p44163464p45663464.bz2',\n",
       " 'enwiki-20190601-pages-articles27.xml-p45663464p47163464.bz2',\n",
       " 'enwiki-20190601-pages-articles27.xml-p47163464p48663464.bz2',\n",
       " 'enwiki-20190601-pages-articles27.xml-p48663464p50163464.bz2',\n",
       " 'enwiki-20190601-pages-articles27.xml-p50163464p51663464.bz2',\n",
       " 'enwiki-20190601-pages-articles27.xml-p51663464p53163464.bz2',\n",
       " 'enwiki-20190601-pages-articles27.xml-p53163464p54663464.bz2',\n",
       " 'enwiki-20190601-pages-articles27.xml-p54663464p56163464.bz2',\n",
       " 'enwiki-20190601-pages-articles27.xml-p56163464p57663464.bz2',\n",
       " 'enwiki-20190601-pages-articles27.xml-p57663464p59163464.bz2',\n",
       " 'enwiki-20190601-pages-articles27.xml-p59163464p60663464.bz2',\n",
       " 'enwiki-20190601-pages-articles27.xml-p60663464p60933434.bz2']"
      ]
     },
     "execution_count": 19,
     "metadata": {},
     "output_type": "execute_result"
    }
   ],
   "source": [
    "files_to_download"
   ]
  },
  {
   "cell_type": "code",
   "execution_count": null,
   "metadata": {},
   "outputs": [],
   "source": []
  },
  {
   "cell_type": "markdown",
   "metadata": {},
   "source": [
    "## Download Files Using Keras\n",
    "\n",
    "Files will be saved in `/.keras/datasets`."
   ]
  },
  {
   "cell_type": "code",
   "execution_count": null,
   "metadata": {},
   "outputs": [
    {
     "name": "stdout",
     "output_type": "stream",
     "text": [
      "Downloading data from https://dumps.wikimedia.org/enwiki/20190601/enwiki-20190601-pages-articles-multistream22.xml-p25427984p26823658.bz2\n",
      "332652544/332650260 [==============================] - 219s 1us/step\n",
      "Downloading data from https://dumps.wikimedia.org/enwiki/20190601/enwiki-20190601-pages-articles-multistream23.xml-p26823661p28323661.bz2\n",
      "361439232/361437402 [==============================] - 235s 1us/step\n",
      "Downloading data from https://dumps.wikimedia.org/enwiki/20190601/enwiki-20190601-pages-articles-multistream23.xml-p28323661p29823661.bz2\n",
      "314023936/314017002 [==============================] - 174s 1us/step\n",
      "Downloading data from https://dumps.wikimedia.org/enwiki/20190601/enwiki-20190601-pages-articles-multistream23.xml-p29823661p30503448.bz2\n",
      "140664832/140661749 [==============================] - 83s 1us/step\n",
      "Downloading data from https://dumps.wikimedia.org/enwiki/20190601/enwiki-20190601-pages-articles-multistream24.xml-p30503454p32003454.bz2\n",
      "397172736/397164821 [==============================] - 224s 1us/step\n",
      "Downloading data from https://dumps.wikimedia.org/enwiki/20190601/enwiki-20190601-pages-articles-multistream24.xml-p32003454p33503454.bz2\n",
      "379035648/379027937 [==============================] - 215s 1us/step\n",
      "Downloading data from https://dumps.wikimedia.org/enwiki/20190601/enwiki-20190601-pages-articles-multistream24.xml-p33503454p33952815.bz2\n",
      "106553344/106552068 [==============================] - 55s 1us/step\n",
      "Downloading data from https://dumps.wikimedia.org/enwiki/20190601/enwiki-20190601-pages-articles-multistream25.xml-p33952817p35452817.bz2\n",
      "339083264/339076083 [==============================] - 184s 1us/step\n",
      "Downloading data from https://dumps.wikimedia.org/enwiki/20190601/enwiki-20190601-pages-articles-multistream25.xml-p35452817p36952817.bz2\n",
      "365027328/365026646 [==============================] - 228s 1us/step\n",
      "Downloading data from https://dumps.wikimedia.org/enwiki/20190601/enwiki-20190601-pages-articles-multistream25.xml-p36952817p38067198.bz2\n",
      "258408448/258403233 [==============================] - 191s 1us/step\n",
      "Downloading data from https://dumps.wikimedia.org/enwiki/20190601/enwiki-20190601-pages-articles-multistream26.xml-p38067204p39567204.bz2\n",
      "367697920/367694158 [==============================] - 267s 1us/step\n",
      "Downloading data from https://dumps.wikimedia.org/enwiki/20190601/enwiki-20190601-pages-articles-multistream26.xml-p39567204p41067204.bz2\n",
      "359342080/359336831 [==============================] - 253s 1us/step\n",
      "Downloading data from https://dumps.wikimedia.org/enwiki/20190601/enwiki-20190601-pages-articles-multistream26.xml-p41067204p42567204.bz2\n",
      "365199360/365194036 [==============================] - 252s 1us/step\n",
      "Downloading data from https://dumps.wikimedia.org/enwiki/20190601/enwiki-20190601-pages-articles-multistream26.xml-p42567204p42663461.bz2\n",
      "23003136/23000595 [==============================] - 17s 1us/step\n",
      "Downloading data from https://dumps.wikimedia.org/enwiki/20190601/enwiki-20190601-pages-articles-multistream27.xml-p42663464p44163464.bz2\n",
      "369573888/369567509 [==============================] - 229s 1us/step\n",
      "Downloading data from https://dumps.wikimedia.org/enwiki/20190601/enwiki-20190601-pages-articles-multistream27.xml-p44163464p45663464.bz2\n",
      "325795840/325790614 [==============================] - 193s 1us/step\n",
      "Downloading data from https://dumps.wikimedia.org/enwiki/20190601/enwiki-20190601-pages-articles-multistream27.xml-p45663464p47163464.bz2\n",
      "262070272/262069770 [==============================] - 163s 1us/step\n",
      "Downloading data from https://dumps.wikimedia.org/enwiki/20190601/enwiki-20190601-pages-articles-multistream27.xml-p47163464p48663464.bz2\n",
      "327098368/327092442 [==============================] - 221s 1us/step\n",
      "Downloading data from https://dumps.wikimedia.org/enwiki/20190601/enwiki-20190601-pages-articles-multistream27.xml-p48663464p50163464.bz2\n",
      "312950784/312949904 [==============================] - 226s 1us/step\n",
      "Downloading data from https://dumps.wikimedia.org/enwiki/20190601/enwiki-20190601-pages-articles-multistream27.xml-p50163464p51663464.bz2\n",
      "338567168/338559651 [==============================] - 242s 1us/step\n",
      "Downloading data from https://dumps.wikimedia.org/enwiki/20190601/enwiki-20190601-pages-articles-multistream27.xml-p51663464p53163464.bz2\n",
      "316399616/316394818 [==============================] - 220s 1us/step\n",
      "Downloading data from https://dumps.wikimedia.org/enwiki/20190601/enwiki-20190601-pages-articles-multistream27.xml-p53163464p54663464.bz2\n",
      "341508096/341505820 [==============================] - 248s 1us/step\n",
      "Downloading data from https://dumps.wikimedia.org/enwiki/20190601/enwiki-20190601-pages-articles-multistream27.xml-p54663464p56163464.bz2\n",
      "306847744/306839665 [==============================] - 199s 1us/step\n",
      "Downloading data from https://dumps.wikimedia.org/enwiki/20190601/enwiki-20190601-pages-articles-multistream27.xml-p56163464p57663464.bz2\n",
      "350060544/350055686 [==============================] - 250s 1us/step\n",
      "Downloading data from https://dumps.wikimedia.org/enwiki/20190601/enwiki-20190601-pages-articles-multistream27.xml-p57663464p59163464.bz2\n",
      "324861952/324861431 [==============================] - 211s 1us/step\n",
      "Downloading data from https://dumps.wikimedia.org/enwiki/20190601/enwiki-20190601-pages-articles-multistream27.xml-p59163464p60663464.bz2\n",
      "332357632/332353435 [==============================] - 213s 1us/step\n",
      "Downloading data from https://dumps.wikimedia.org/enwiki/20190601/enwiki-20190601-pages-articles-multistream27.xml-p60663464p60933434.bz2\n",
      "55222272/55215441 [==============================] - 44s 1us/step\n",
      "Downloading data from https://dumps.wikimedia.org/enwiki/20190601/enwiki-20190601-pages-articles1.xml-p10p30302.bz2\n",
      "178626560/178624942 [==============================] - 146s 1us/step\n",
      "Downloading data from https://dumps.wikimedia.org/enwiki/20190601/enwiki-20190601-pages-articles2.xml-p30304p88444.bz2\n",
      "211861504/211856746 [==============================] - 177s 1us/step\n",
      "Downloading data from https://dumps.wikimedia.org/enwiki/20190601/enwiki-20190601-pages-articles3.xml-p88445p200507.bz2\n",
      "272007168/272002504 [==============================] - 196s 1us/step\n",
      "Downloading data from https://dumps.wikimedia.org/enwiki/20190601/enwiki-20190601-pages-articles4.xml-p200511p352689.bz2\n",
      "277872640/277865781 [==============================] - 168s 1us/step\n",
      "Downloading data from https://dumps.wikimedia.org/enwiki/20190601/enwiki-20190601-pages-articles5.xml-p352690p565312.bz2\n",
      "304193536/304187958 [==============================] - 214s 1us/step\n",
      "Downloading data from https://dumps.wikimedia.org/enwiki/20190601/enwiki-20190601-pages-articles6.xml-p565314p892912.bz2\n",
      "328499200/328497459 [==============================] - 216s 1us/step\n",
      "Downloading data from https://dumps.wikimedia.org/enwiki/20190601/enwiki-20190601-pages-articles7.xml-p892914p1268691.bz2\n",
      "335659008/335652191 [==============================] - 201s 1us/step\n",
      "Downloading data from https://dumps.wikimedia.org/enwiki/20190601/enwiki-20190601-pages-articles8.xml-p1268693p1791079.bz2\n",
      "366903296/366897914 [==============================] - 242s 1us/step\n",
      "Downloading data from https://dumps.wikimedia.org/enwiki/20190601/enwiki-20190601-pages-articles9.xml-p1791081p2336422.bz2\n",
      "355753984/355749782 [==============================] - 244s 1us/step\n",
      "Downloading data from https://dumps.wikimedia.org/enwiki/20190601/enwiki-20190601-pages-articles10.xml-p2336425p3046511.bz2\n",
      "371843072/371835708 [==============================] - 225s 1us/step\n",
      "Downloading data from https://dumps.wikimedia.org/enwiki/20190601/enwiki-20190601-pages-articles11.xml-p3046517p3926861.bz2\n",
      "392642560/392635246 [==============================] - 272s 1us/step\n",
      "Downloading data from https://dumps.wikimedia.org/enwiki/20190601/enwiki-20190601-pages-articles12.xml-p3926864p5040435.bz2\n",
      "405430272/405427826 [==============================] - 243s 1us/step\n",
      "Downloading data from https://dumps.wikimedia.org/enwiki/20190601/enwiki-20190601-pages-articles13.xml-p5040438p6197593.bz2\n",
      "342532096/342527575 [==============================] - 193s 1us/step\n",
      "Downloading data from https://dumps.wikimedia.org/enwiki/20190601/enwiki-20190601-pages-articles26.xml-p39567204p41067204.bz2\n",
      "336117760/336113284 [==============================] - 209s 1us/step\n",
      "Downloading data from https://dumps.wikimedia.org/enwiki/20190601/enwiki-20190601-pages-articles26.xml-p41067204p42567204.bz2\n",
      "304873472/304866140 [==============================] - 168s 1us/step\n",
      "Downloading data from https://dumps.wikimedia.org/enwiki/20190601/enwiki-20190601-pages-articles27.xml-p48663464p50163464.bz2\n",
      "314548224/314547203 [==============================] - 174s 1us/step\n",
      "Downloading data from https://dumps.wikimedia.org/enwiki/20190601/enwiki-20190601-pages-articles27.xml-p51663464p53163464.bz2\n",
      "276332544/317152129 [=========================>....] - ETA: 22s"
     ]
    }
   ],
   "source": [
    "from tensorflow.keras.utils import get_file\n",
    "\n",
    "data_paths = []\n",
    "\n",
    "start = timer()\n",
    "for file in files_to_download:\n",
    "    data_paths.append(get_file(file, dumps_url + file))\n",
    "    \n",
    "end = timer()\n",
    "print(f'{round(end - start)} total seconds elapsed.')"
   ]
  },
  {
   "cell_type": "markdown",
   "metadata": {},
   "source": [
    "The total download time was just over 2 hours. That's not bad for all of Wikipedia (at leas the English articles).\n",
    "\n",
    "This process could also be done in parallel using multithreading or multiprocessing. However, I have run into issues running parallel jobs donwloading files because the code was making too many requests to the server."
   ]
  },
  {
   "cell_type": "code",
   "execution_count": null,
   "metadata": {},
   "outputs": [],
   "source": [
    " "
   ]
  }
 ],
 "metadata": {
  "kernelspec": {
   "display_name": "Python 3",
   "language": "python",
   "name": "python3"
  },
  "language_info": {
   "codemirror_mode": {
    "name": "ipython",
    "version": 3
   },
   "file_extension": ".py",
   "mimetype": "text/x-python",
   "name": "python",
   "nbconvert_exporter": "python",
   "pygments_lexer": "ipython3",
   "version": "3.6.8"
  }
 },
 "nbformat": 4,
 "nbformat_minor": 2
}
